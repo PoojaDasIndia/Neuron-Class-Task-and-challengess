{
 "cells": [
  {
   "cell_type": "markdown",
   "id": "497fb658",
   "metadata": {},
   "source": [
    "# INeuron Class Task1(String)\n"
   ]
  },
  {
   "cell_type": "markdown",
   "id": "4bdbf9d0",
   "metadata": {},
   "source": [
    "### s = \"this is My First Python programming class and i am learNING python string and its function\"\n",
    "    1  . Try to extract data from index one to index 300 with a jump of 3 print \n",
    "    2  . Try to reverse a string without using reverse function\n",
    "    3  . Try to split a string after conversion of entire string in uppercase \n",
    "    4  . Try to convert the whole string into lower case\n",
    "    5  . Try to capitalize the whole string \n",
    "    6  . Write a diference between isalnum() and isalpha() \n",
    "    7  . Try to give an example of expand tab \n",
    "    8  . Give an example of strip , lstrip and rstrip \n",
    "    9  . Replace a string charecter by another charector by taking your own example \"sudhanshu\" \n",
    "    10 . Try to give a defination of string center function with and exmple \n",
    "    11 . Write your own definition of compiler and interpretor without copy paste form internet in your own language \n",
    "    12 . Python is a interpreted or compiled language give a clear ans with your understanding \n",
    "    13 . Try to write a usecase of python with your understanding"
   ]
  },
  {
   "cell_type": "code",
   "execution_count": 1,
   "id": "928cc0ff",
   "metadata": {},
   "outputs": [],
   "source": [
    "# Given Input string\n",
    "\n",
    "s = \"this is My First Python programming class and i am learNING python string and its function\""
   ]
  },
  {
   "cell_type": "code",
   "execution_count": 2,
   "id": "9919130d",
   "metadata": {},
   "outputs": [
    {
     "name": "stdout",
     "output_type": "stream",
     "text": [
      "tssyityopgmncsa alrNph rgni ni\n"
     ]
    }
   ],
   "source": [
    "#1 . Try to extract data from index one to index 300 with a jump of 3 print \n",
    "\n",
    "print(s[0:300:3])"
   ]
  },
  {
   "cell_type": "code",
   "execution_count": 3,
   "id": "b2b0ecb5",
   "metadata": {},
   "outputs": [
    {
     "name": "stdout",
     "output_type": "stream",
     "text": [
      "noitcnuf sti dna gnirts nohtyp GNINrael ma i dna ssalc gnimmargorp nohtyP tsriF yM si siht\n"
     ]
    }
   ],
   "source": [
    "#2. Try to reverse a string without using reverse function\n",
    "\n",
    "print(s[-1::-1])"
   ]
  },
  {
   "cell_type": "code",
   "execution_count": 4,
   "id": "79e86765",
   "metadata": {},
   "outputs": [
    {
     "name": "stdout",
     "output_type": "stream",
     "text": [
      "['THIS', 'IS', 'MY', 'FIRST', 'PYTHON', 'PROGRAMMING', 'CLASS', 'AND', 'I', 'AM', 'LEARNING', 'PYTHON', 'STRING', 'AND', 'ITS', 'FUNCTION']\n"
     ]
    }
   ],
   "source": [
    "#3. Try to split a string after conversion of entire string in uppercase\n",
    "\n",
    "print((s.upper()).split())"
   ]
  },
  {
   "cell_type": "code",
   "execution_count": 5,
   "id": "b35ebec6",
   "metadata": {},
   "outputs": [
    {
     "name": "stdout",
     "output_type": "stream",
     "text": [
      "this is my first python programming class and i am learning python string and its function\n"
     ]
    }
   ],
   "source": [
    "#4  . Try to convert the whole string into lower case\n",
    "print(s.lower())"
   ]
  },
  {
   "cell_type": "code",
   "execution_count": 6,
   "id": "4ee7f388",
   "metadata": {},
   "outputs": [
    {
     "name": "stdout",
     "output_type": "stream",
     "text": [
      "This Is My First Python Programming Class And I Am Learning Python String And Its Function\n"
     ]
    }
   ],
   "source": [
    "#5  . Try to capitalize the whole string \n",
    "print(s.title())"
   ]
  },
  {
   "cell_type": "markdown",
   "id": "0b753a7f",
   "metadata": {},
   "source": [
    "\n",
    "#### 6  . Write a diference between isalnum() and isalpha() \n",
    "    \n",
    "     isalnum():\n",
    "             This is called \"is-alphanumeric\".\n",
    "             It  checks Weather a string contain combination of only  a single character or squence of character with numeric no. like \"abc12\",\"5p\",Then return result as True or False, \n",
    "             But if there is any space than is it not alphanumric, it will be False\n",
    "             \n",
    "     isalpha():\n",
    "             This is called \"is-alpha\"\n",
    "             It  checks Weather a string contain only  a single character or squence of character without numeric no.or symbols like \"abc\",\"p\",Then return result as True or False, \n",
    "             But if there is any space than is it not alpha, it will be False        \n",
    "             \n",
    "             \n",
    "             \n"
   ]
  },
  {
   "cell_type": "code",
   "execution_count": 7,
   "id": "b3f3c1f0",
   "metadata": {},
   "outputs": [
    {
     "name": "stdout",
     "output_type": "stream",
     "text": [
      "Example of alnum---- True\n",
      "Example of alnum with space---- False\n",
      "Example of alpha---- True\n",
      "Example of alpha with space---- False\n"
     ]
    }
   ],
   "source": [
    "# isalnum() -- Example with True and with False\n",
    "\n",
    "alnum_1=\"alnum456\"\n",
    "print(\"Example of alnum----\",alnum_1.isalnum())\n",
    "\n",
    "alnum_2=\"alnum456 \"\n",
    "print(\"Example of alnum with space----\",alnum_2.isalnum())\n",
    "\n",
    "# isalpha() -- Example with True and with False\n",
    "\n",
    "alpha_1=\"alpha\"\n",
    "print(\"Example of alpha----\",alpha_1.isalpha())\n",
    "\n",
    "alpha_2=\"alpha \"\n",
    "print(\"Example of alpha with space----\",alpha_2.isalpha())\n",
    "\n"
   ]
  },
  {
   "cell_type": "markdown",
   "id": "2762c677",
   "metadata": {},
   "source": [
    "#### 7  . Try to give an example of expand tab \n",
    "\n",
    "    expandtabs()---expanstabs generally gives 4 spaces (a tab) after geting '\\t' in input."
   ]
  },
  {
   "cell_type": "code",
   "execution_count": 8,
   "id": "6467c104",
   "metadata": {
    "scrolled": true
   },
   "outputs": [
    {
     "name": "stdout",
     "output_type": "stream",
     "text": [
      "this    is      My              First   Python programming class and    i am learNING   python string and       its function\n"
     ]
    }
   ],
   "source": [
    "#Example of expantabs()\n",
    "\n",
    "s = \"this\\tis\\tMy\\t\\tFirst\\tPython programming class and\\ti am learNING\\tpython string and\\tits function\"\n",
    "print(s.expandtabs())"
   ]
  },
  {
   "cell_type": "markdown",
   "id": "5d6bf1e2",
   "metadata": {},
   "source": [
    "#### 8  . Give an example of strip , lstrip and rstrip \n",
    "\n",
    "    strip()- Remove space in a string from left  or right side but not inbetween space.\n",
    "    lstrip()-Remove space in a string from left side.\n",
    "    rstrip()- Remove space in a string from Right side.\n"
   ]
  },
  {
   "cell_type": "code",
   "execution_count": 9,
   "id": "6684c65c",
   "metadata": {},
   "outputs": [
    {
     "name": "stdout",
     "output_type": "stream",
     "text": [
      "strip---- Pooja    Das\n",
      "lstrip---- Pooja    Das         \n",
      "rstrip----         Pooja    Das\n"
     ]
    }
   ],
   "source": [
    "#input\n",
    "s=\"        Pooja    Das         \"\n",
    "\n",
    "#Example of strip\n",
    "print(\"strip----\",s.strip())\n",
    "\n",
    "#Example of lstrip\n",
    "print(\"lstrip----\",s.lstrip())\n",
    "\n",
    "\n",
    "#Example of rstrip\n",
    "print(\"rstrip----\",s.rstrip())\n"
   ]
  },
  {
   "cell_type": "code",
   "execution_count": 10,
   "id": "440aca42",
   "metadata": {},
   "outputs": [
    {
     "name": "stdout",
     "output_type": "stream",
     "text": [
      "pOOja dOing pythOn prOgramming\n"
     ]
    }
   ],
   "source": [
    "# 9  . Replace a string charecter by another charector by taking your own example \"sudhanshu\" \n",
    "s=\"pooja doing python programming\" \n",
    "print(s.replace(\"o\",\"O\")) # replacing small\"o\" with big \"O\""
   ]
  },
  {
   "cell_type": "markdown",
   "id": "4d2275ee",
   "metadata": {},
   "source": [
    "#### 10 . Try to give a defination of string center function with and exmple\n",
    "    \n",
    "    center(width_interger_no,fillchar/default=\" \")- Center() is used to return a string centerized inbentween given width range.\n",
    "    \n",
    "    like: In below example I am given string \"Pooja\" which is 5 character length. width is given 10 and fillchar is given \"+\"\n",
    "    So,  now we it execute, first it put \"Pooja\" in mid that is 5 char out of 10 than remain 5 space it fill with fillcharacter i.e\"+\" in this case if am not mention than it take default as space but for easy understanding i use\"+\".\n",
    "    Now output become \"++Pooja+++\" In this case we will get 3 \"+\"sign in left and 2 \"+\" sign right . \n",
    "    \n"
   ]
  },
  {
   "cell_type": "code",
   "execution_count": 11,
   "id": "03297ab8",
   "metadata": {},
   "outputs": [
    {
     "name": "stdout",
     "output_type": "stream",
     "text": [
      "++Pooja+++\n",
      "++++Rama+++\n"
     ]
    }
   ],
   "source": [
    "s=\"Pooja\"\n",
    "print(s.center(10,\"+\"))\n",
    "l=\"Rama\"\n",
    "print(l.center(11,\"+\"))"
   ]
  },
  {
   "cell_type": "markdown",
   "id": "d04aafde",
   "metadata": {},
   "source": [
    "#### 11 . Write your own definition of compiler and interpretor without copy paste form internet in your own language.\n",
    "\n",
    "    First both Compiler and Interpreter used to convert HLL(High Level Language) to LLL(Low Level Language i.e Machine lang.)\n",
    "    \n",
    "   Now Question came that what is the  Difference between Compiler and Interpreter.\n",
    "   \n",
    "   Lets understand by Example: I written a program  which contain 50 lines of code now,\n",
    "   \n",
    "   what Compiler do , Compiler read(means Execute) this whole program  in one time ,but\n",
    "   Interpreter execute this 50 lines of program one by one like 1 line execute than 2 line than so on till last.\n",
    "   \n",
    "   Because of Compiler execute whole code one time  is become faster than interpreter as it execute line-by-line.\n",
    "   \n",
    "   but this one time execution become Compiler slower in Analzing , as after whole code execution only  we get output and if any error in code than we will get after whole execution.Now think if we have 10000 lOC than how time comsuming.\n",
    "   and in interpreter analzing is very fast as it execute line  by line and if we get error we easy understand this line have error.\n",
    "   \n",
    "   \n",
    "   \n",
    "   \n",
    "   \n",
    "    "
   ]
  },
  {
   "cell_type": "markdown",
   "id": "b6d40841",
   "metadata": {},
   "source": [
    "#### 12 . Python is a interpreted or compiled language give a clear ans with your understanding \n",
    "\n",
    "    For this Question \"Python is a interpreted or compiled language\" its better to see practical example by giving a error.\n",
    "    \n",
    "    so, in this\n",
    "    \n",
    "    a=\"Pooja\" # \"Pooja\" is assign to a ok  correct\n",
    "    print(\"Hello World\") # print \"pooja\"  as it don't have any error and we get our output so hmm Good\n",
    "    print(a+2)# print pooja2 but error as str not concetenate with int  nd we get error too\n",
    "    print(\"pooja\"*2)# print poojapooja  this statement is correct but not print  as we get error in above line python not execute this statement \n",
    "    \n",
    "    \n",
    "   So, as we seen in example python execute line by line and get error stop in that line only not even go to next that only mean \"Python is Interpreter\"."
   ]
  },
  {
   "cell_type": "code",
   "execution_count": 12,
   "id": "9104e28e",
   "metadata": {},
   "outputs": [
    {
     "name": "stdout",
     "output_type": "stream",
     "text": [
      "Hello World\n"
     ]
    },
    {
     "ename": "TypeError",
     "evalue": "can only concatenate str (not \"int\") to str",
     "output_type": "error",
     "traceback": [
      "\u001b[1;31m---------------------------------------------------------------------------\u001b[0m",
      "\u001b[1;31mTypeError\u001b[0m                                 Traceback (most recent call last)",
      "\u001b[1;32m~\\AppData\\Local\\Temp/ipykernel_5692/1351428446.py\u001b[0m in \u001b[0;36m<module>\u001b[1;34m\u001b[0m\n\u001b[0;32m      1\u001b[0m \u001b[0ma\u001b[0m\u001b[1;33m=\u001b[0m\u001b[1;34m\"Pooja\"\u001b[0m\u001b[1;33m\u001b[0m\u001b[1;33m\u001b[0m\u001b[0m\n\u001b[0;32m      2\u001b[0m \u001b[0mprint\u001b[0m\u001b[1;33m(\u001b[0m\u001b[1;34m\"Hello World\"\u001b[0m\u001b[1;33m)\u001b[0m\u001b[1;33m\u001b[0m\u001b[1;33m\u001b[0m\u001b[0m\n\u001b[1;32m----> 3\u001b[1;33m \u001b[0mprint\u001b[0m\u001b[1;33m(\u001b[0m\u001b[0ma\u001b[0m\u001b[1;33m+\u001b[0m\u001b[1;36m2\u001b[0m\u001b[1;33m)\u001b[0m\u001b[1;33m\u001b[0m\u001b[1;33m\u001b[0m\u001b[0m\n\u001b[0m\u001b[0;32m      4\u001b[0m \u001b[0mprint\u001b[0m\u001b[1;33m(\u001b[0m\u001b[1;34m\"pooja\"\u001b[0m\u001b[1;33m*\u001b[0m\u001b[1;36m2\u001b[0m\u001b[1;33m)\u001b[0m\u001b[1;33m\u001b[0m\u001b[1;33m\u001b[0m\u001b[0m\n",
      "\u001b[1;31mTypeError\u001b[0m: can only concatenate str (not \"int\") to str"
     ]
    }
   ],
   "source": [
    "a=\"Pooja\"\n",
    "print(\"Hello World\")\n",
    "print(a+2)\n",
    "print(\"pooja\"*2)"
   ]
  },
  {
   "cell_type": "markdown",
   "id": "020d6a6b",
   "metadata": {},
   "source": [
    "#### 13 . Try to write a usecase of python with your understanding\n",
    "\n",
    "User Case of Python Well we all how  much python popular now a days  many Companies use Python for they work as pyhton is simple programming, have large collection built-in-libaries ,lots of fantastic modules like Numpy, Flask, scipy,Pandas etc.\n",
    "\n",
    "Netflix one of the Growing company now a Days and almost we all awar about Netflix But do we knw Netflix Developed in python. \n",
    "and Netflix  use  python for  its recommendation algorithms it use machine learning.Netlix use to Analzied it data by python modules."
   ]
  }
 ],
 "metadata": {
  "kernelspec": {
   "display_name": "Python 3 (ipykernel)",
   "language": "python",
   "name": "python3"
  },
  "language_info": {
   "codemirror_mode": {
    "name": "ipython",
    "version": 3
   },
   "file_extension": ".py",
   "mimetype": "text/x-python",
   "name": "python",
   "nbconvert_exporter": "python",
   "pygments_lexer": "ipython3",
   "version": "3.9.7"
  }
 },
 "nbformat": 4,
 "nbformat_minor": 5
}
