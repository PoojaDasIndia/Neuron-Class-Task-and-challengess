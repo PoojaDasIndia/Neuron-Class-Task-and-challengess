{
 "cells": [
  {
   "cell_type": "markdown",
   "id": "b736df6e",
   "metadata": {},
   "source": [
    "# INeuron Class Task2 (List,Tuple,Dictionary)"
   ]
  },
  {
   "cell_type": "markdown",
   "id": "8a95c85c",
   "metadata": {},
   "source": [
    "### l = [3,4,5,6,7 , [23,456,67,8,78,78] , [345,56,87,8,98,9] , (234,6657,6) , {\"key1\" :\"sudh\" , 234:[23,45,656]}]\n",
    "\n",
    "1 . Try to reverse a list<br> \n",
    "2. try to access 234 out of this list <br>\n",
    "3 . try to access 456<br> \n",
    "4 . Try to extract only a list collection form list l <br> \n",
    "5 . Try to extract \"sudh\"<br> \n",
    "6 . Try to list all the key in dict element avaible in list <br> \n",
    "7 . Try to extract all the value element form dict available in list "
   ]
  },
  {
   "cell_type": "markdown",
   "id": "4c9a9e73",
   "metadata": {},
   "source": [
    "### Main List is l"
   ]
  },
  {
   "cell_type": "code",
   "execution_count": 1,
   "id": "4138ae86",
   "metadata": {},
   "outputs": [],
   "source": [
    "l = [3,4,5,6,7 , [23,456,67,8,78,78] , [345,56,87,8,98,9] , (234,6657,6) , {\"key1\" :\"sudh\" , 234:[23,45,656]}]"
   ]
  },
  {
   "cell_type": "markdown",
   "id": "3e7de2e2",
   "metadata": {},
   "source": [
    "### 1 . Try to reverse a list"
   ]
  },
  {
   "cell_type": "code",
   "execution_count": 2,
   "id": "576e7950",
   "metadata": {},
   "outputs": [
    {
     "name": "stdout",
     "output_type": "stream",
     "text": [
      "list is \n",
      " [3, 4, 5, 6, 7, [23, 456, 67, 8, 78, 78], [345, 56, 87, 8, 98, 9], (234, 6657, 6), {'key1': 'sudh', 234: [23, 45, 656]}]\n",
      "\n",
      "Reverse list \n",
      " [{'key1': 'sudh', 234: [23, 45, 656]}, (234, 6657, 6), [345, 56, 87, 8, 98, 9], [23, 456, 67, 8, 78, 78], 7, 6, 5, 4, 3]\n"
     ]
    }
   ],
   "source": [
    "print(\"list is \\n\",l)\n",
    "print()\n",
    "l.reverse()\n",
    "print(\"Reverse list \\n\",l)"
   ]
  },
  {
   "cell_type": "markdown",
   "id": "e8b614c8",
   "metadata": {},
   "source": [
    "### 2. Try to access 234 out of this list"
   ]
  },
  {
   "cell_type": "code",
   "execution_count": 3,
   "id": "2c7db42f",
   "metadata": {},
   "outputs": [
    {
     "name": "stdout",
     "output_type": "stream",
     "text": [
      "list is \n",
      " [{'key1': 'sudh', 234: [23, 45, 656]}, (234, 6657, 6), [345, 56, 87, 8, 98, 9], [23, 456, 67, 8, 78, 78], 7, 6, 5, 4, 3]\n",
      "\n",
      "{'key1': 'sudh', 234: [23, 45, 656]}\n",
      "(234, 6657, 6)\n"
     ]
    }
   ],
   "source": [
    "print(\"list is \\n\",l)\n",
    "print()\n",
    "if 234 in l:\n",
    "    print (\"Index of 234 is main list\",l.index(234))\n",
    "    print()\n",
    "for i in l:\n",
    "    if type(i) !=int and 234 in i:\n",
    "            print(i)\n",
    "            \n",
    "        \n",
    "    "
   ]
  },
  {
   "cell_type": "markdown",
   "id": "6e6f80dd",
   "metadata": {},
   "source": [
    "### 3 . Try to access 456"
   ]
  },
  {
   "cell_type": "code",
   "execution_count": 4,
   "id": "305e10af",
   "metadata": {},
   "outputs": [
    {
     "name": "stdout",
     "output_type": "stream",
     "text": [
      "list is \n",
      " [{'key1': 'sudh', 234: [23, 45, 656]}, (234, 6657, 6), [345, 56, 87, 8, 98, 9], [23, 456, 67, 8, 78, 78], 7, 6, 5, 4, 3]\n",
      "\n",
      "[23, 456, 67, 8, 78, 78]\n"
     ]
    }
   ],
   "source": [
    "print(\"list is \\n\",l)\n",
    "print()\n",
    "if 456 in l:\n",
    "    print (\"Index of 234 is main list\",l.index(456))\n",
    "    print()\n",
    "for i in l:\n",
    "    if type(i) !=int and 456 in i:\n",
    "            print(i)\n",
    "            \n",
    "        "
   ]
  },
  {
   "cell_type": "markdown",
   "id": "c676dd5d",
   "metadata": {},
   "source": [
    "### 4 . Try to extract only a list collection form list l"
   ]
  },
  {
   "cell_type": "code",
   "execution_count": 5,
   "id": "615d8f8c",
   "metadata": {},
   "outputs": [
    {
     "name": "stdout",
     "output_type": "stream",
     "text": [
      "list is \n",
      " [{'key1': 'sudh', 234: [23, 45, 656]}, (234, 6657, 6), [345, 56, 87, 8, 98, 9], [23, 456, 67, 8, 78, 78], 7, 6, 5, 4, 3]\n",
      "\n",
      "List collection inside list are:\n",
      "\n",
      "[345, 56, 87, 8, 98, 9]\n",
      "[23, 456, 67, 8, 78, 78]\n"
     ]
    }
   ],
   "source": [
    "print(\"list is \\n\",l)\n",
    "print()\n",
    "print(\"List collection inside list are:\\n\")\n",
    "for i in l:\n",
    "    if type(i)==list:\n",
    "        print(i)"
   ]
  },
  {
   "cell_type": "markdown",
   "id": "c7f804f0",
   "metadata": {},
   "source": [
    "### 5 . Try to extract \"sudh\""
   ]
  },
  {
   "cell_type": "code",
   "execution_count": 6,
   "id": "4eaf2177",
   "metadata": {},
   "outputs": [
    {
     "name": "stdout",
     "output_type": "stream",
     "text": [
      "list is \n",
      " [{'key1': 'sudh', 234: [23, 45, 656]}, (234, 6657, 6), [345, 56, 87, 8, 98, 9], [23, 456, 67, 8, 78, 78], 7, 6, 5, 4, 3]\n",
      "\n",
      "Extact 'sudh' from list is  sudh\n"
     ]
    }
   ],
   "source": [
    "#l[0][\"key1\"] ------o/p= sudh  but I like  second method more\n",
    "print(\"list is \\n\",l)\n",
    "print()\n",
    "for i in l:\n",
    "    if type(i)==dict:\n",
    "        print(\"Extact 'sudh' from list is \",i['key1'])"
   ]
  },
  {
   "cell_type": "markdown",
   "id": "8ada64f0",
   "metadata": {},
   "source": [
    "### 6 . Try to list all the key in dict element available in list"
   ]
  },
  {
   "cell_type": "code",
   "execution_count": 7,
   "id": "4991709f",
   "metadata": {},
   "outputs": [
    {
     "name": "stdout",
     "output_type": "stream",
     "text": [
      "list is\n",
      " [{'key1': 'sudh', 234: [23, 45, 656]}, (234, 6657, 6), [345, 56, 87, 8, 98, 9], [23, 456, 67, 8, 78, 78], 7, 6, 5, 4, 3]\n",
      "\n",
      "All the keys in dictionay element available in list  are:\n",
      "\n",
      "dict_keys(['key1', 234])\n"
     ]
    }
   ],
   "source": [
    "print(\"list is\\n\",l)\n",
    "print()\n",
    "print(\"All the keys in dictionay element available in list  are:\\n\")\n",
    "for i in l:\n",
    "    if type(i)==dict:\n",
    "        print(i.keys())"
   ]
  },
  {
   "cell_type": "markdown",
   "id": "e092d925",
   "metadata": {},
   "source": [
    "### 7 . Try to extract all the value element form dict available in list"
   ]
  },
  {
   "cell_type": "code",
   "execution_count": 8,
   "id": "58878e89",
   "metadata": {},
   "outputs": [
    {
     "name": "stdout",
     "output_type": "stream",
     "text": [
      "list is\n",
      " [{'key1': 'sudh', 234: [23, 45, 656]}, (234, 6657, 6), [345, 56, 87, 8, 98, 9], [23, 456, 67, 8, 78, 78], 7, 6, 5, 4, 3]\n",
      "\n",
      "All the values in dictionary element available in list  are:\n",
      "\n",
      "dict_values(['sudh', [23, 45, 656]])\n"
     ]
    }
   ],
   "source": [
    "print(\"list is\\n\",l)\n",
    "print()\n",
    "print(\"All the values in dictionary element available in list  are:\\n\")\n",
    "for i in l:\n",
    "    if type(i)==dict:\n",
    "        print(i.values())"
   ]
  }
 ],
 "metadata": {
  "kernelspec": {
   "display_name": "Python 3 (ipykernel)",
   "language": "python",
   "name": "python3"
  },
  "language_info": {
   "codemirror_mode": {
    "name": "ipython",
    "version": 3
   },
   "file_extension": ".py",
   "mimetype": "text/x-python",
   "name": "python",
   "nbconvert_exporter": "python",
   "pygments_lexer": "ipython3",
   "version": "3.9.7"
  }
 },
 "nbformat": 4,
 "nbformat_minor": 5
}
