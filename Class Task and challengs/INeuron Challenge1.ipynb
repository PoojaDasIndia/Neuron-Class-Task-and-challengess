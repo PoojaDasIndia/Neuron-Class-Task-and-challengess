{
 "cells": [
  {
   "cell_type": "markdown",
   "id": "6f0d725c",
   "metadata": {},
   "source": [
    "## Challenge 1"
   ]
  },
  {
   "cell_type": "markdown",
   "id": "0936aa95",
   "metadata": {},
   "source": [
    "<b>Your First Challenge : </b>\n",
    "    \n",
    "you have to submit it by next saturday 4th june 2022  : \n",
    "    shivan@ineuron.ai ,sudhanshu@ineuron.ai\n",
    "    \n",
    "**Q1** : Try to print this by using while loop \n",
    "\n",
    "    * \n",
    "    * * \n",
    "    * * * \n",
    "    * * * * \n",
    "    * * * * * \n",
    "    * * * * * * \n",
    "    * * * * * * * \n",
    "    * * * * * * * * \n",
    "    * * * * * * * * * \n",
    "\n",
    "**Q2** : Try to print below by using while loop : \n",
    "        \n",
    "A <br>\n",
    "B H <br>\n",
    "C I N <br>\n",
    "D J O S <br>\n",
    "E K p T W <br>\n",
    "F L Q U X z <br>\n",
    "G M R V Y <br>\n",
    "\n",
    "**Q3** : Try to print all the number divisible by 3 in between a range of 40 - 400\n",
    "    \n",
    "**Q4 : Try to filter out all the vowels form below text by using while loop :**\n",
    "\n",
    "\n",
    " \"\"\"Python is a high-level, interpreted, general-purpose programming language. Its design philosophy emphasizes code readability with the use of significant indentation.[32]\n",
    "\n",
    "Python is dynamically-typed and garbage-collected. It supports multiple programming paradigms, including structured (particularly procedural), object-oriented and functional programming. It is often described as a \"batteries included\" language due to its comprehensive standard library.[33][34]\n",
    "\n",
    "Guido van Rossum began working on Python in the late 1980s as a successor to the ABC programming language and first released it in 1991 as Python 0.9.0.[35] Python 2.0 was released in 2000 and introduced new features such as list comprehensions, cycle-detecting garbage collection, reference counting, and Unicode support. Python 3.0, released in 2008, was a major revision that is not completely backward-compatible with earlier versions. Python 2 was discontinued with version 2.7.18 in 2020.[36]\n",
    "\n",
    "Python consistently ranks as one of the most popular programming languagesc\"\"\" \n",
    "\n",
    "\n",
    "**Q5**: Try to generate all the even number between 1- 1000\n",
    "\n",
    "**Q6** : Define a function for all the above problem statememnt  . \n",
    "    \n",
    "**Q7** : write a code to get a time of your system \n",
    "\n",
    "**Q8** : Write a code to fetch date form your system \n",
    "\n",
    "**Q9** : Write a code to send a mail to your friend \n",
    "\n",
    "**Q10** : write a code to trigger alarm for you at scheduled time \n",
    "\n",
    "**Q11** : write a code to check ip address of your system \n",
    "\n",
    "**Q12** : Write a code to check a perticular installation in your system\n",
    "\n",
    "**Q13** : Write a code to convert any text in to voice \n",
    "\n",
    "**Q14** : you have to write a fun which will take string and return a len of it without using a inbuilt fun len\n",
    "\n",
    "**Q15** :write a fun which will be able to print an index of all premitive element which you will pass \n",
    "\n",
    "**Q16** : Write a fun which will take input as a dict and give me out as a list of all the values even in case of 2 level nesting it should work . \n",
    "\n",
    "**Q17** : write a function whihc will take multiple list as a input and give me concatnation of all the element as \n",
    "and output\n",
    "\n",
    "**Q18** : Write a function which will would return list of all the file name from a directory . \n",
    "\n",
    "**Q19** : write a function whihc will be able to read a image file and show it to you .\n",
    "    \n",
    "**Q20** : write a function by which you will be able to append two PDF files . \n",
    "    \n",
    "**Q21** : write a function which can help you to filter only word file from a directory . \n",
    "    \n",
    "**Q22** : write a function which can read video file and play for you . \n",
    "    \n",
    "**Q23** : write a function which will be able to shutdonw your system . \n",
    "\n",
    "**Q24** : Write a function which will would return list of all the file name from a directory . \n",
    "\n",
    "**Q25** : write a function which will be able to access your mail . \n",
    "        "
   ]
  },
  {
   "cell_type": "markdown",
   "id": "381b656d",
   "metadata": {},
   "source": [
    "### Q1 : Try to print this by using while loop\n",
    "        \n",
    "        * \n",
    "        * * \n",
    "        * * * \n",
    "        * * * * \n",
    "        * * * * * \n",
    "        * * * * * * \n",
    "        * * * * * * * \n",
    "        * * * * * * * * \n",
    "        * * * * * * * * * "
   ]
  },
  {
   "cell_type": "code",
   "execution_count": 1,
   "id": "71778ac3",
   "metadata": {},
   "outputs": [
    {
     "name": "stdout",
     "output_type": "stream",
     "text": [
      "Enter any value 9\n",
      "\n",
      "\n",
      "* \n",
      "* * \n",
      "* * * \n",
      "* * * * \n",
      "* * * * * \n",
      "* * * * * * \n",
      "* * * * * * * \n",
      "* * * * * * * * \n",
      "* * * * * * * * * \n"
     ]
    }
   ],
   "source": [
    "Number_of_line= int(input(\"Enter any value \"))\n",
    "print()\n",
    "i=0\n",
    "\n",
    "#Outer Loop\n",
    "while i<=Number_of_line:\n",
    "    j=0\n",
    "    \n",
    "    #Inner Loop\n",
    "    while j<i:\n",
    "        print(\"*\",end=\" \")\n",
    "        j+=1\n",
    "    i+=1    \n",
    "    print() "
   ]
  },
  {
   "cell_type": "markdown",
   "id": "176e89b5",
   "metadata": {},
   "source": [
    "### **Q2** : Try to print below by using while loop : \n",
    "        \n",
    "A <br>\n",
    "B H <br>\n",
    "C I N <br>\n",
    "D J O S <br>\n",
    "E K P T W <br>\n",
    "F L Q U X Z <br>\n",
    "G M R V Y <br>  "
   ]
  },
  {
   "cell_type": "code",
   "execution_count": 2,
   "id": "b3b2381e",
   "metadata": {},
   "outputs": [
    {
     "name": "stdout",
     "output_type": "stream",
     "text": [
      "Enter number between 7 to 26 for Print  A to Z ,Recommend  Try 7 number, it  will give nice A to Z Triangle)\n",
      "\n",
      "Enter number between 7 to 26 -- 7\n",
      "\n",
      "A \n",
      "B H \n",
      "C I N \n",
      "D J O S \n",
      "E K P T W \n",
      "F L Q U X Z \n",
      "G M R V Y \n"
     ]
    }
   ],
   "source": [
    "print(\"Enter number between 7 to 26 for Print  A to Z ,Recommend  Try 7 number, it  will give nice A to Z Triangle)\")\n",
    "print()\n",
    "number_of_line=int(input(\"Enter number between 7 to 26 -- \"))\n",
    "print()\n",
    "\n",
    "i = 1\n",
    "\n",
    "# ascii code of A to Z is 65 to 90\n",
    "char=65 \n",
    "\n",
    "#outer loop\n",
    "while(i<=number_of_line):\n",
    "    \n",
    "    temp= char\n",
    "    j = 1\n",
    "\n",
    "   #Inner Loop\n",
    "    while(j <= i): \n",
    "        if temp<91:\n",
    "            print (chr(temp),end=\" \")\n",
    "            \n",
    "            #Main logic\n",
    "            temp = temp + number_of_line - j\n",
    "            \n",
    "            j +=1\n",
    "        else:\n",
    "            break\n",
    "                  \n",
    "    print()\n",
    "    char += 1\n",
    "    i += 1\n",
    " \n",
    "    "
   ]
  },
  {
   "cell_type": "markdown",
   "id": "e3d0b5cf",
   "metadata": {},
   "source": [
    "### Q3 : Try to print all the number divisible by 3 in between a range of 40 - 400"
   ]
  },
  {
   "cell_type": "code",
   "execution_count": 3,
   "id": "6d455107",
   "metadata": {},
   "outputs": [
    {
     "name": "stdout",
     "output_type": "stream",
     "text": [
      "Enter the Lower No.  40\n",
      "Enter the higher No.  400\n",
      "\n",
      "All the number divisible by 3 in between a range of 40 - 400 is:\n",
      "\n",
      " [42, 45, 48, 51, 54, 57, 60, 63, 66, 69, 72, 75, 78, 81, 84, 87, 90, 93, 96, 99, 102, 105, 108, 111, 114, 117, 120, 123, 126, 129, 132, 135, 138, 141, 144, 147, 150, 153, 156, 159, 162, 165, 168, 171, 174, 177, 180, 183, 186, 189, 192, 195, 198, 201, 204, 207, 210, 213, 216, 219, 222, 225, 228, 231, 234, 237, 240, 243, 246, 249, 252, 255, 258, 261, 264, 267, 270, 273, 276, 279, 282, 285, 288, 291, 294, 297, 300, 303, 306, 309, 312, 315, 318, 321, 324, 327, 330, 333, 336, 339, 342, 345, 348, 351, 354, 357, 360, 363, 366, 369, 372, 375, 378, 381, 384, 387, 390, 393, 396, 399]\n"
     ]
    }
   ],
   "source": [
    "#User input\n",
    "lower_range=int(input(\"Enter the Lower No.  \"))\n",
    "higher_range=int(input(\"Enter the higher No.  \"))\n",
    "\n",
    "#empty list for store result\n",
    "list_of_divisible_by_3=[]\n",
    "\n",
    "#Main logic\n",
    "for i in range(lower_range,higher_range+1):\n",
    "    if i%3==0:\n",
    "        list_of_divisible_by_3.append(i)  # add rersult to List   \n",
    "        \n",
    "print(f\"\\nAll the number divisible by 3 in between a range of {lower_range} - {higher_range} is:\\n\\n {list_of_divisible_by_3}\")        \n",
    "        "
   ]
  },
  {
   "cell_type": "markdown",
   "id": "a2d82b53",
   "metadata": {},
   "source": [
    "### Q4 : Try to filter out all the vowels form below text by using while loop :\n",
    "\n",
    "\"\"\"Python is a high-level, interpreted, general-purpose programming language. Its design philosophy emphasizes code readability with the use of significant indentation.[32]\n",
    "\n",
    "Python is dynamically-typed and garbage-collected. It supports multiple programming paradigms, including structured (particularly procedural), object-oriented and functional programming. It is often described as a \"batteries included\" language due to its comprehensive standard library.[33][34]\n",
    "\n",
    "Guido van Rossum began working on Python in the late 1980s as a successor to the ABC programming language and first released it in 1991 as Python 0.9.0.[35] Python 2.0 was released in 2000 and introduced new features such as list comprehensions, cycle-detecting garbage collection, reference counting, and Unicode support. Python 3.0, released in 2008, was a major revision that is not completely backward-compatible with earlier versions. Python 2 was discontinued with version 2.7.18 in 2020.[36]\n",
    "\n",
    "Python consistently ranks as one of the most popular programming languagesc\"\"\""
   ]
  },
  {
   "cell_type": "code",
   "execution_count": 4,
   "id": "57fb5359",
   "metadata": {},
   "outputs": [
    {
     "name": "stdout",
     "output_type": "stream",
     "text": [
      "All the vowels in the  Text :\n",
      "\n",
      "No. of Time 'a' occur in String is  67\n",
      "\n",
      "No. of Time 'e' occur in String is  82\n",
      "\n",
      "No. of Time 'i' occur in String is  63\n",
      "\n",
      "No. of Time 'o' occur in String is  55\n",
      "\n",
      "No. of Time 'u' occur in String is  26\n",
      "\n",
      "No. of Time 'A' occur in String is  1\n",
      "\n",
      "No. of Time 'E' occur in String is  0\n",
      "\n",
      "No. of Time 'I' occur in String is  3\n",
      "\n",
      "No. of Time 'O' occur in String is  0\n",
      "\n",
      "No. of Time 'U' occur in String is  1\n",
      "\n"
     ]
    }
   ],
   "source": [
    "string=\"\"\"Python is a high-level, interpreted, general-purpose programming language. Its design philosophy emphasizes code readability with the use of significant indentation.[32]\n",
    "\n",
    "Python is dynamically-typed and garbage-collected. It supports multiple programming paradigms, including structured (particularly procedural), object-oriented and functional programming. It is often described as a \"batteries included\" language due to its comprehensive standard library.[33][34]\n",
    "\n",
    "Guido van Rossum began working on Python in the late 1980s as a successor to the ABC programming language and first released it in 1991 as Python 0.9.0.[35] Python 2.0 was released in 2000 and introduced new features such as list comprehensions, cycle-detecting garbage collection, reference counting, and Unicode support. Python 3.0, released in 2008, was a major revision that is not completely backward-compatible with earlier versions. Python 2 was discontinued with version 2.7.18 in 2020.[36]\n",
    "\n",
    "Python consistently ranks as one of the most popular programming languagesc\"\"\"\n",
    "\n",
    "#list for all vowel small & capital both\n",
    "list_of_Vowels=[\"a\",\"e\",\"i\",\"o\",\"u\",\"A\",\"E\",\"I\",\"O\",\"U\"]\n",
    "\n",
    "print(\"All the vowels in the  Text :\\n\")\n",
    "# Main logic\n",
    "i=0\n",
    "while i<len(list_of_Vowels):\n",
    "    print(f\"No. of Time '{list_of_Vowels[i]}' occur in String is  {string.count(list_of_Vowels[i])}\\n\")\n",
    "    i+=1"
   ]
  },
  {
   "cell_type": "markdown",
   "id": "fcd6cbe8",
   "metadata": {},
   "source": [
    "### Q5: Try to generate all the even number between 1- 1000\n",
    "    \n",
    "    "
   ]
  },
  {
   "cell_type": "code",
   "execution_count": 5,
   "id": "779e3e1d",
   "metadata": {},
   "outputs": [
    {
     "name": "stdout",
     "output_type": "stream",
     "text": [
      "Enter the Lower No.  1\n",
      "Enter the higher No.  1000\n",
      "\n",
      "All the Even number in between a range of 1 - 1000 is:\n",
      "\n",
      " [2, 4, 6, 8, 10, 12, 14, 16, 18, 20, 22, 24, 26, 28, 30, 32, 34, 36, 38, 40, 42, 44, 46, 48, 50, 52, 54, 56, 58, 60, 62, 64, 66, 68, 70, 72, 74, 76, 78, 80, 82, 84, 86, 88, 90, 92, 94, 96, 98, 100, 102, 104, 106, 108, 110, 112, 114, 116, 118, 120, 122, 124, 126, 128, 130, 132, 134, 136, 138, 140, 142, 144, 146, 148, 150, 152, 154, 156, 158, 160, 162, 164, 166, 168, 170, 172, 174, 176, 178, 180, 182, 184, 186, 188, 190, 192, 194, 196, 198, 200, 202, 204, 206, 208, 210, 212, 214, 216, 218, 220, 222, 224, 226, 228, 230, 232, 234, 236, 238, 240, 242, 244, 246, 248, 250, 252, 254, 256, 258, 260, 262, 264, 266, 268, 270, 272, 274, 276, 278, 280, 282, 284, 286, 288, 290, 292, 294, 296, 298, 300, 302, 304, 306, 308, 310, 312, 314, 316, 318, 320, 322, 324, 326, 328, 330, 332, 334, 336, 338, 340, 342, 344, 346, 348, 350, 352, 354, 356, 358, 360, 362, 364, 366, 368, 370, 372, 374, 376, 378, 380, 382, 384, 386, 388, 390, 392, 394, 396, 398, 400, 402, 404, 406, 408, 410, 412, 414, 416, 418, 420, 422, 424, 426, 428, 430, 432, 434, 436, 438, 440, 442, 444, 446, 448, 450, 452, 454, 456, 458, 460, 462, 464, 466, 468, 470, 472, 474, 476, 478, 480, 482, 484, 486, 488, 490, 492, 494, 496, 498, 500, 502, 504, 506, 508, 510, 512, 514, 516, 518, 520, 522, 524, 526, 528, 530, 532, 534, 536, 538, 540, 542, 544, 546, 548, 550, 552, 554, 556, 558, 560, 562, 564, 566, 568, 570, 572, 574, 576, 578, 580, 582, 584, 586, 588, 590, 592, 594, 596, 598, 600, 602, 604, 606, 608, 610, 612, 614, 616, 618, 620, 622, 624, 626, 628, 630, 632, 634, 636, 638, 640, 642, 644, 646, 648, 650, 652, 654, 656, 658, 660, 662, 664, 666, 668, 670, 672, 674, 676, 678, 680, 682, 684, 686, 688, 690, 692, 694, 696, 698, 700, 702, 704, 706, 708, 710, 712, 714, 716, 718, 720, 722, 724, 726, 728, 730, 732, 734, 736, 738, 740, 742, 744, 746, 748, 750, 752, 754, 756, 758, 760, 762, 764, 766, 768, 770, 772, 774, 776, 778, 780, 782, 784, 786, 788, 790, 792, 794, 796, 798, 800, 802, 804, 806, 808, 810, 812, 814, 816, 818, 820, 822, 824, 826, 828, 830, 832, 834, 836, 838, 840, 842, 844, 846, 848, 850, 852, 854, 856, 858, 860, 862, 864, 866, 868, 870, 872, 874, 876, 878, 880, 882, 884, 886, 888, 890, 892, 894, 896, 898, 900, 902, 904, 906, 908, 910, 912, 914, 916, 918, 920, 922, 924, 926, 928, 930, 932, 934, 936, 938, 940, 942, 944, 946, 948, 950, 952, 954, 956, 958, 960, 962, 964, 966, 968, 970, 972, 974, 976, 978, 980, 982, 984, 986, 988, 990, 992, 994, 996, 998, 1000]\n"
     ]
    }
   ],
   "source": [
    "#User input\n",
    "lower_range=int(input(\"Enter the Lower No.  \"))\n",
    "higher_range=int(input(\"Enter the higher No.  \"))\n",
    "\n",
    "# main logic using LIST COMPRESHENSION\n",
    "list_of_Even_Number=[i for i in range(lower_range,higher_range+1) if i%2==0]\n",
    "\n",
    "print(f\"\\nAll the Even number in between a range of {lower_range} - {higher_range} is:\\n\\n {list_of_Even_Number}\")        \n",
    "        "
   ]
  },
  {
   "cell_type": "markdown",
   "id": "b8e3638a",
   "metadata": {},
   "source": [
    "### Q6 : Define a function for all the above problem statememnt ."
   ]
  },
  {
   "cell_type": "code",
   "execution_count": 6,
   "id": "289a5d72",
   "metadata": {},
   "outputs": [],
   "source": [
    "# ALL FUNCTIONS\n",
    "\n",
    "#1.STAR PRINT PATTERN\n",
    "def Star_Pattern():\n",
    "    n= int(input(\"Enter any value \"))\n",
    "    print()\n",
    "    for i in range(n):\n",
    "        for j in range(i):\n",
    "            print(\"*\",end=\" \")\n",
    "        print()  \n",
    "\n",
    "#2 ALPHABET PRINT PATTERN\n",
    "def Alphbet_pattern():\n",
    "    print(\"Enter number between 7 to 26 for Print  A to Z ,Recommend  Try 7 number, it  will give nice A to Z Triangle)\")\n",
    "    print()\n",
    "    n=int(input(\"Enter number between 7 to 26 --\"))\n",
    "    print()\n",
    "    c=65\n",
    "    for i in  range(1,n+1):\n",
    "        k=c\n",
    "        for j in range(1,i+1):\n",
    "            if k<91:\n",
    "                print (chr(k),end=\" \")\n",
    "                k = k + n - j\n",
    "                j = j + 1\n",
    "            else:\n",
    "                break\n",
    "        c+=1        \n",
    "        print() \n",
    "        \n",
    "        \n",
    "        \n",
    "#Function for divide by 3        \n",
    "def  divisible_by_3(lower_range,higher_range):\n",
    "    list_of_divisible_by_3=[i for i in range(lower_range,higher_range+1) if i%3==0]\n",
    "    return list_of_divisible_by_3\n",
    "        \n",
    "    \n",
    "    \n",
    " #function for vowel in text   \n",
    "def vowels_inText(String):\n",
    "    list_of_Vowels=[\"a\",\"e\",\"i\",\"o\",\"u\",\"A\",\"E\",\"I\",\"O\",\"U\"]\n",
    "    print(\"All the vowels in the  Text :\\n\")\n",
    "    for i in list_of_Vowels:\n",
    "        print(f\"No. of Time '{i}' occur in String is  {String.count(i)}\\n\")\n",
    "            \n",
    "\n",
    "#function for even in range\n",
    "def Even_No_InRange(lower_range,higher_range):\n",
    "    list_of_Even_Number=[i for i in range(lower_range,higher_range+1) if i%2==0]\n",
    "    return list_of_Even_Number\n",
    "      "
   ]
  },
  {
   "cell_type": "code",
   "execution_count": 7,
   "id": "289da66f",
   "metadata": {},
   "outputs": [
    {
     "name": "stdout",
     "output_type": "stream",
     "text": [
      "\n",
      "All the Even number in between a range :\n",
      "\n",
      " [3, 6, 9, 12, 15, 18, 21, 24, 27, 30, 33, 36, 39, 42, 45, 48, 51, 54, 57, 60, 63, 66, 69, 72, 75, 78, 81, 84, 87, 90, 93, 96, 99]\n"
     ]
    }
   ],
   "source": [
    "#calling divisible_by_3() function\n",
    "\n",
    "result= divisible_by_3(1,100)\n",
    "print(f\"\\nAll the Even number in between a range :\\n\\n {result}\")\n"
   ]
  },
  {
   "cell_type": "code",
   "execution_count": 8,
   "id": "4cc7c82a",
   "metadata": {},
   "outputs": [
    {
     "name": "stdout",
     "output_type": "stream",
     "text": [
      "All the vowels in the  Text :\n",
      "\n",
      "No. of Time 'a' occur in String is  2\n",
      "\n",
      "No. of Time 'e' occur in String is  0\n",
      "\n",
      "No. of Time 'i' occur in String is  0\n",
      "\n",
      "No. of Time 'o' occur in String is  2\n",
      "\n",
      "No. of Time 'u' occur in String is  2\n",
      "\n",
      "No. of Time 'A' occur in String is  0\n",
      "\n",
      "No. of Time 'E' occur in String is  0\n",
      "\n",
      "No. of Time 'I' occur in String is  0\n",
      "\n",
      "No. of Time 'O' occur in String is  0\n",
      "\n",
      "No. of Time 'U' occur in String is  0\n",
      "\n"
     ]
    }
   ],
   "source": [
    "#calling vowels function\n",
    "vowels_inText(\"pooja khff 12ggf srddgfthjfvhygt58ssfachmguuh jghfhgcc\")    "
   ]
  },
  {
   "cell_type": "code",
   "execution_count": 9,
   "id": "fa011006",
   "metadata": {},
   "outputs": [
    {
     "name": "stdout",
     "output_type": "stream",
     "text": [
      "Enter number between 7 to 26 for Print  A to Z ,Recommend  Try 7 number, it  will give nice A to Z Triangle)\n",
      "\n",
      "Enter number between 7 to 26 --7\n",
      "\n",
      "A \n",
      "B H \n",
      "C I N \n",
      "D J O S \n",
      "E K P T W \n",
      "F L Q U X Z \n",
      "G M R V Y \n"
     ]
    }
   ],
   "source": [
    "#calling Alphbet making function\n",
    "Alphbet_pattern()"
   ]
  },
  {
   "cell_type": "code",
   "execution_count": 10,
   "id": "c857da83",
   "metadata": {},
   "outputs": [
    {
     "name": "stdout",
     "output_type": "stream",
     "text": [
      "Enter any value 7\n",
      "\n",
      "\n",
      "* \n",
      "* * \n",
      "* * * \n",
      "* * * * \n",
      "* * * * * \n",
      "* * * * * * \n"
     ]
    }
   ],
   "source": [
    "#calling star making function\n",
    "Star_Pattern()"
   ]
  },
  {
   "cell_type": "code",
   "execution_count": 11,
   "id": "60139e25",
   "metadata": {},
   "outputs": [
    {
     "name": "stdout",
     "output_type": "stream",
     "text": [
      "\n",
      "All the Even number in between a range :\n",
      "\n",
      " [2, 4, 6, 8, 10, 12, 14, 16, 18, 20, 22, 24, 26, 28, 30, 32, 34, 36, 38, 40, 42, 44, 46, 48, 50, 52, 54, 56, 58, 60, 62, 64, 66, 68, 70, 72, 74, 76, 78, 80, 82, 84, 86, 88, 90, 92, 94, 96, 98, 100]\n"
     ]
    }
   ],
   "source": [
    "#calling even function\n",
    "result=Even_No_InRange(1,100)\n",
    "print(f\"\\nAll the Even number in between a range :\\n\\n {result}\")\n"
   ]
  },
  {
   "cell_type": "markdown",
   "id": "f7409bf8",
   "metadata": {},
   "source": [
    "### Q7 : Write a code to get a time of your system"
   ]
  },
  {
   "cell_type": "code",
   "execution_count": 12,
   "id": "c6d88cf0",
   "metadata": {},
   "outputs": [
    {
     "name": "stdout",
     "output_type": "stream",
     "text": [
      "System Time is '17:53:01 PM | Tuesday'\n"
     ]
    }
   ],
   "source": [
    "from datetime import *\n",
    "time=datetime.now().strftime(\"%H:%M:%S %p | %A\")    \n",
    "print(f\"System Time is '{time}'\")\n"
   ]
  },
  {
   "cell_type": "markdown",
   "id": "0223a864",
   "metadata": {},
   "source": [
    "### Q8 : Write a code to fetch date form your system"
   ]
  },
  {
   "cell_type": "code",
   "execution_count": 13,
   "id": "9c85aa3e",
   "metadata": {},
   "outputs": [
    {
     "name": "stdout",
     "output_type": "stream",
     "text": [
      "System Date is '2022-05-31'\n"
     ]
    }
   ],
   "source": [
    "from datetime import *\n",
    "date=datetime.now().date()\n",
    "print(f\"System Date is '{date}'\")\n"
   ]
  },
  {
   "cell_type": "markdown",
   "id": "3f6a1eb9",
   "metadata": {},
   "source": [
    "### Q9 : Write a code to send a mail to your friend"
   ]
  },
  {
   "cell_type": "code",
   "execution_count": 14,
   "id": "af7f3f7f",
   "metadata": {
    "scrolled": true
   },
   "outputs": [
    {
     "name": "stdout",
     "output_type": "stream",
     "text": [
      "Please Check your SPAM Folder\n"
     ]
    }
   ],
   "source": [
    "import smtplib\n",
    "\n",
    "list_of_mail_id=[\"poojadas93@outlook.com\",\"Poojadas2014.pd@gmail.com\",\"shivan@ineuron.ai\",\n",
    "                 \"sudhanshu@ineuron.ai\",\"poojadasdatascience@gmail.com\"]\n",
    "\n",
    "# Creates SMTP(Simple Mail Transport Protocol) session\n",
    "s=smtplib.SMTP('smtp.gmail.com', 587)#465,587\n",
    "\n",
    "# Start TLS(Transport Leyer Security ) for security\n",
    "\n",
    "\n",
    "s.starttls()\n",
    "\n",
    "# Authentication\n",
    "\n",
    "s.login(\"poojadasdatascience@gmail.com\",\"iucuevwfzohtbooi\")\n",
    "\n",
    "# Message to be sent\n",
    "\n",
    "message=\"\"\"Hello, This is Testing Message for My Python Program.\n",
    "If You you Getting this mail Means My Python Program work absolutely Fine.\n",
    "and I hope You Are doing good.\n",
    "Jai Hind\"\"\"\n",
    "\n",
    "# Sending the mail\n",
    "\n",
    "for send_mail in list_of_mail_id:\n",
    "    s.sendmail(\"poojadasdatascience@gmail.com\",send_mail,message)\n",
    "\n",
    "# Terminating the session\n",
    "s.quit()\n",
    "\n",
    "print(\"Please Check your SPAM Folder\")"
   ]
  },
  {
   "cell_type": "markdown",
   "id": "3c2a3e8c",
   "metadata": {},
   "source": [
    "### Q10 : write a code to trigger alarm for you at scheduled time"
   ]
  },
  {
   "cell_type": "code",
   "execution_count": 20,
   "id": "a38f11ed",
   "metadata": {},
   "outputs": [],
   "source": [
    "# pip install playsound"
   ]
  },
  {
   "cell_type": "code",
   "execution_count": 21,
   "id": "6d7f3417",
   "metadata": {},
   "outputs": [
    {
     "name": "stdout",
     "output_type": "stream",
     "text": [
      "Enter Hours and Minute--6 03\n",
      "Enter (AM/am) or (PM/pm)-- pm\n",
      "\n",
      "Wake Up Dear its 2022-05-31 18:04:03.492364\n"
     ]
    }
   ],
   "source": [
    "from datetime import *\n",
    "from playsound import * \n",
    "import time\n",
    "\n",
    "# print(datetime.now())\n",
    "\n",
    "#Taking user input when they want to wake (hour, min, am/pm)\n",
    "Hour,Minute=map(int,input(\"Enter Hours and Minute--\").split())\n",
    "AM_PM=input(\"Enter (AM/am) or (PM/pm)-- \")\n",
    "\n",
    "#As time in 24 hr stander  thatz add 12 in hours\n",
    "if (AM_PM == \"pm\") or (AM_PM == \"PM\"):\n",
    "    Hour = Hour+12\n",
    "\n",
    "    \n",
    "#logic execute till while loop not false. It will be false when given  (hour, min, am/pm) equal with system (hour, min, am/pm)\n",
    "while True:\n",
    "    if (Hour == datetime.now().hour) and (Minute == datetime.now().minute):\n",
    "        for i in range(3): # 3 time alarm play\n",
    "            playsound(r\"C:\\Users\\HP\\Downloads\\Wake Wake Up Its Brand New Day.mp3\")\n",
    "            time.sleep(2) # gap of 2 second\n",
    "        break # break the loop\n",
    "        \n",
    "print(f\"\\nWake Up Dear its {datetime.now()}\")  #end print the current time to confirm loop break \n",
    "\n",
    "\n",
    "#Download_Source:\"https://mobcup.net/ringtone/wake-wake-up-its-brand-new-day-v1gmnhq2\"    "
   ]
  },
  {
   "cell_type": "markdown",
   "id": "4a76950d",
   "metadata": {},
   "source": [
    "### Q11 : Write a code to check ip address of your system"
   ]
  },
  {
   "cell_type": "code",
   "execution_count": 16,
   "id": "95f827c1",
   "metadata": {},
   "outputs": [
    {
     "name": "stdout",
     "output_type": "stream",
     "text": [
      "Sorry! For Security rerason, I Mask My Computer IP Address :\n",
      "\n",
      "192.***.**.**\n"
     ]
    }
   ],
   "source": [
    "import socket\n",
    "\n",
    "hostname = socket.gethostname()   #gethostname give host name\n",
    "IPAddress = socket.gethostbyname(hostname)  #gethostbyname give host according to hostname\n",
    "\n",
    "#Masking IP Address logic behind this just find \".\" in ip address and assiggn it to varible \n",
    "a=IPAddress.find(\".\")\n",
    "b=IPAddress.find(\".\",a+1)\n",
    "c=IPAddress.find(\".\",b+1)\n",
    "\n",
    "#printing IP Address with masking\n",
    "print(\"Sorry! For Security rerason, I Mask My Computer IP Address :\\n\")\n",
    "print(IPAddress[0:a+1]+\"*\"*(b-a-1)+IPAddress[b]+\"*\"*(c-b-1)+IPAddress[c]+\"*\"*len(IPAddress[c+1:]))\n",
    "    "
   ]
  },
  {
   "cell_type": "markdown",
   "id": "c66acbb5",
   "metadata": {},
   "source": [
    "### Q12 : Write a code to check a particular installation in your system"
   ]
  },
  {
   "cell_type": "code",
   "execution_count": 17,
   "id": "9b16f148",
   "metadata": {},
   "outputs": [],
   "source": [
    "# pip install winapps"
   ]
  },
  {
   "cell_type": "code",
   "execution_count": 18,
   "id": "2f5b8d3b",
   "metadata": {},
   "outputs": [],
   "source": [
    "import winapps\n",
    " \n",
    "def serach_App():\n",
    "    name=input(\"Enter the Apps You want to search in your system: \")\n",
    "    count=0\n",
    "    for item in winapps.search_installed(name):\n",
    "        print(\"\\n\",item)      "
   ]
  },
  {
   "cell_type": "code",
   "execution_count": 19,
   "id": "c536b43d",
   "metadata": {},
   "outputs": [
    {
     "name": "stdout",
     "output_type": "stream",
     "text": [
      "Enter the Apps You want to search in your system: git\n",
      "\n",
      " InstalledApplication(name='Git', version='2.36.0', install_date=datetime.date(2022, 4, 25), install_location=WindowsPath('C:/Program Files/Git'), install_source=None, modify_path=None, publisher='The Git Development Community', uninstall_string='\"C:\\\\Program Files\\\\Git\\\\unins000.exe\"')\n"
     ]
    }
   ],
   "source": [
    "serach_App()"
   ]
  },
  {
   "cell_type": "markdown",
   "id": "79845dcc",
   "metadata": {},
   "source": [
    "### Q13 : Write a code to convert any text in to voice"
   ]
  },
  {
   "cell_type": "markdown",
   "id": "92c5826e",
   "metadata": {},
   "source": [
    " gTTS stands for Google Text-to-Speech. gTTs is a Python library and Command line tool to interface with Google Translate's text-to-speech API. it Writes text to spoken mp3 data to a file or stdout.\n"
   ]
  },
  {
   "cell_type": "code",
   "execution_count": 24,
   "id": "b9f3fc80",
   "metadata": {},
   "outputs": [
    {
     "name": "stdout",
     "output_type": "stream",
     "text": [
      "Please Be patience it will took  few second  to open in your system\n"
     ]
    },
    {
     "data": {
      "text/plain": [
       "0"
      ]
     },
     "execution_count": 24,
     "metadata": {},
     "output_type": "execute_result"
    }
   ],
   "source": [
    "from gtts import *\n",
    "import os\n",
    "\n",
    "print(\"Please Be patience it will took  few second  to open in your system\")\n",
    "\n",
    "Text=\"\"\"जन गण मन अधिनायक जय हे\n",
    "भारत भाग्य विधाता।\n",
    "\n",
    "पंजाब सिन्ध गुजरात मराठा\n",
    "द्रविड़ उत्कल बंग।\n",
    "विंध्य हिमाचल यमुना गंगा\n",
    "उच्छल जलधि तरंग।\n",
    "\n",
    "तव शुभ नामे जागे\n",
    "तव शुभ आशीष मागे।\n",
    "\n",
    "गाहे तव जयगाथा।\n",
    "\n",
    "जन गण मंगलदायक जय हे\n",
    "भारत भाग्य विधाता।\n",
    "\n",
    "जय हे, जय हे, जय हे\n",
    "जय जय जय जय हे॥ \n",
    "\n",
    "Thank you for your Patience\"\"\"\n",
    "\n",
    "language='hi' #hindi\n",
    "\n",
    "\n",
    "#gTTS() take few argument main is TEXT to read, language (by default=en),slow means slow thn True fast than make it false\n",
    "speech=gTTS(text=Text,lang=language,slow=False) \n",
    "speech.save(\"Speech.mp3\")  #.save() for save file \n",
    "os.system(\"Speech.mp3\")  #os.system() to start play \n",
    "\n",
    "\n",
    "# Language Code list link: https://developers.google.com/admin-sdk/directory/v1/languages"
   ]
  },
  {
   "cell_type": "markdown",
   "id": "c3b1e414",
   "metadata": {},
   "source": [
    "### Q14 : You have to write a fun which will take string and return a len of it without using a inbuilt fun len"
   ]
  },
  {
   "cell_type": "code",
   "execution_count": 27,
   "id": "e19d3483",
   "metadata": {},
   "outputs": [
    {
     "name": "stdout",
     "output_type": "stream",
     "text": [
      "Enter the string for which You want to find Length--\n",
      "\n",
      "INeuron Challenge1\n",
      "\n",
      "Length of string is 18\n"
     ]
    }
   ],
   "source": [
    "def length_finder(string):\n",
    "    count=0\n",
    "    for i in string:\n",
    "        count+=1\n",
    "    return count\n",
    "\n",
    "\n",
    "\n",
    "String=input(\"Enter the string for which You want to find Length--\\n\\n\")\n",
    "result=length_finder(String)\n",
    "print(\"\\nLength of string is\",result)"
   ]
  },
  {
   "cell_type": "markdown",
   "id": "34313197",
   "metadata": {},
   "source": [
    "### Q15 :Write a fun which will be able to print an index of all premitive element which you will pass"
   ]
  },
  {
   "cell_type": "code",
   "execution_count": 28,
   "id": "69dbd51d",
   "metadata": {},
   "outputs": [
    {
     "name": "stdout",
     "output_type": "stream",
     "text": [
      "Enter the string for which You want to find Indexes--\n",
      "\n",
      "INeuron Challenge1\n",
      "Index of I is 0\n",
      "Index of N is 1\n",
      "Index of e is 2\n",
      "Index of u is 3\n",
      "Index of r is 4\n",
      "Index of o is 5\n",
      "Index of n is 6\n",
      "Index of   is 7\n",
      "Index of C is 8\n",
      "Index of h is 9\n",
      "Index of a is 10\n",
      "Index of l is 11\n",
      "Index of l is 12\n",
      "Index of e is 13\n",
      "Index of n is 14\n",
      "Index of g is 15\n",
      "Index of e is 16\n",
      "Index of 1 is 17\n"
     ]
    }
   ],
   "source": [
    "def Index_finder(string):\n",
    "    index=0\n",
    "    for i in string:\n",
    "        print(f\"Index of {i} is {index}\")\n",
    "        index+=1\n",
    "    \n",
    "String=input(\"Enter the string for which You want to find Indexes--\\n\\n\")\n",
    "Index_finder(String)\n",
    "\n",
    "        "
   ]
  },
  {
   "cell_type": "markdown",
   "id": "b9498d7c",
   "metadata": {},
   "source": [
    "### Q16 : Write a fun which will take input as a dict and give me out as a list of all the values even in case of 2 level nesting it should work ."
   ]
  },
  {
   "cell_type": "code",
   "execution_count": 29,
   "id": "090c92a0",
   "metadata": {},
   "outputs": [],
   "source": [
    "dictionary={\"First_Name\":\"Pooja\",\"Last_Name\":\"Das\",\"Address\":\"Gurgoan\",\"Level\":{1:\"ML\",2:\"Python\",3:{\"c++,java,c\"},4:{1:\"ML\",2:\"Python\"}},\"day\":(1,2,3,4,5,6,7),\"Month\":[\"jan\",\"feb\",\"sep\"]}"
   ]
  },
  {
   "cell_type": "code",
   "execution_count": 30,
   "id": "3234f611",
   "metadata": {},
   "outputs": [],
   "source": [
    "def dicto(dictionary):  \n",
    "    list_of_values=[value if type(value)!= dict else dicto(value) for key,value in dictionary.items()]\n",
    "    return list_of_values"
   ]
  },
  {
   "cell_type": "code",
   "execution_count": 31,
   "id": "2c9b86fd",
   "metadata": {},
   "outputs": [
    {
     "data": {
      "text/plain": [
       "['Pooja',\n",
       " 'Das',\n",
       " 'Gurgoan',\n",
       " ['ML', 'Python', {'c++,java,c'}, ['ML', 'Python']],\n",
       " (1, 2, 3, 4, 5, 6, 7),\n",
       " ['jan', 'feb', 'sep']]"
      ]
     },
     "execution_count": 31,
     "metadata": {},
     "output_type": "execute_result"
    }
   ],
   "source": [
    "#calling function dicto()\n",
    "dicto(dictionary)"
   ]
  },
  {
   "cell_type": "markdown",
   "id": "3e6b34bd",
   "metadata": {},
   "source": [
    "### Q17 : Write a function which will take multiple list as a input and give me concatnation of all the element as and output"
   ]
  },
  {
   "cell_type": "code",
   "execution_count": 32,
   "id": "3a3629f2",
   "metadata": {},
   "outputs": [],
   "source": [
    "def listo(*args):\n",
    "    list_Element=[]\n",
    "    for i in args:\n",
    "        for j in i:\n",
    "            list_Element.append(j)\n",
    "    return list_Element\n",
    "\n",
    "    "
   ]
  },
  {
   "cell_type": "code",
   "execution_count": 33,
   "id": "ea8c4dda",
   "metadata": {},
   "outputs": [
    {
     "data": {
      "text/plain": [
       "[45, 78, 9, 'gg', 7, 8, 8, 9, 7, 932, 7]"
      ]
     },
     "execution_count": 33,
     "metadata": {},
     "output_type": "execute_result"
    }
   ],
   "source": [
    "#calling function listo()\n",
    "l1=[45,78,9]\n",
    "l2=[\"gg\",7,8]\n",
    "l3=[8,9]\n",
    "listo(l1,l2,l3,[7,932,7])\n",
    "    \n",
    "    "
   ]
  },
  {
   "cell_type": "markdown",
   "id": "7b378331",
   "metadata": {},
   "source": [
    "### Q18 : Write a function which will whould return list of all the file name from a directory ."
   ]
  },
  {
   "cell_type": "code",
   "execution_count": 35,
   "id": "44cac612",
   "metadata": {},
   "outputs": [
    {
     "data": {
      "text/plain": [
       "'C:\\\\Users\\\\HP\\\\Desktop\\\\Python\\\\Class Task and challengs'"
      ]
     },
     "execution_count": 35,
     "metadata": {},
     "output_type": "execute_result"
    }
   ],
   "source": [
    "pwd"
   ]
  },
  {
   "cell_type": "code",
   "execution_count": 36,
   "id": "e7913271",
   "metadata": {},
   "outputs": [
    {
     "name": "stdout",
     "output_type": "stream",
     "text": [
      "Enter the path of direction C:\\\\Users\\\\HP\\\\Desktop\\\\Python\n"
     ]
    },
    {
     "data": {
      "text/plain": [
       "['.ipynb_checkpoints',\n",
       " 'Class Task and challengs',\n",
       " 'Complete Python Module',\n",
       " 'Live Class Practice code',\n",
       " 'My_Python_Practices_Notes',\n",
       " 'Operating System',\n",
       " 'Pycharm_Python_Basic',\n",
       " 'Python Basic Assignments',\n",
       " 'Python Basic Programming Assignments',\n",
       " 'Python_Game_Package',\n",
       " 'Python_Logging',\n",
       " 'README.md']"
      ]
     },
     "execution_count": 36,
     "metadata": {},
     "output_type": "execute_result"
    }
   ],
   "source": [
    "import os\n",
    "def file_InDirectory(directory):\n",
    "    return os.listdir(directory)\n",
    "\n",
    "path_Directory=input(\"Enter the path of direction \")\n",
    "file_InDirectory(path_Directory)"
   ]
  },
  {
   "cell_type": "markdown",
   "id": "e1c86c2b",
   "metadata": {},
   "source": [
    "### Q19 : Write a function whihc will be able to read a image file and show it to you ."
   ]
  },
  {
   "cell_type": "code",
   "execution_count": 37,
   "id": "543c6705",
   "metadata": {},
   "outputs": [
    {
     "name": "stdout",
     "output_type": "stream",
     "text": [
      "Enter The image file C:\\\\Users\\\\HP\\\\Desktop\\\\Python\\\\Class Task and challengs\\\\Image_Audio_Text_File\\\\attitude-quotes-55_.jpg\n",
      "\n",
      "Please Check your current directory\n"
     ]
    }
   ],
   "source": [
    "def Image(link):\n",
    "    Image_File=open(link,\"rb\")\n",
    "    New_Image_File=open(\"Image_File.PNG\",\"wb\")\n",
    "\n",
    "    for i in Image_File:\n",
    "        New_Image_File.write(i)\n",
    "        \n",
    "    print(\"\\nPlease Check your current directory\")    \n",
    "        \n",
    "link=input(\"Enter The image file \")   \n",
    "Image(link)\n",
    "\n",
    "\n",
    "#attitude-quotes-55_.jpg download from my github"
   ]
  },
  {
   "cell_type": "code",
   "execution_count": 38,
   "id": "30538259",
   "metadata": {},
   "outputs": [
    {
     "data": {
      "text/plain": [
       "['.ipynb_checkpoints',\n",
       " 'Image_Audio_Text_File',\n",
       " 'Image_File.PNG',\n",
       " 'INeuron Challenge1.ipynb',\n",
       " 'INeuron Task1.ipynb',\n",
       " 'INeuron Task2.ipynb',\n",
       " 'INeuron Task3.ipynb',\n",
       " 'New_Merge_Pdf_File.pdf',\n",
       " 'Pdf_File3.pdf',\n",
       " 'Pdf_File4.pdf',\n",
       " 'Pdf_File5.pdf',\n",
       " 'Pdf_File6.pdf',\n",
       " 'Pdf_File7.pdf',\n",
       " 'Pdf_File8.pdf',\n",
       " 'Pdf_File9.pdf',\n",
       " 'Song_sample.mp4',\n",
       " 'Speech.mp3',\n",
       " 'Text_File1.text',\n",
       " 'Text_File10.text',\n",
       " 'Text_File2.text',\n",
       " 'Text_File3.text',\n",
       " 'Text_File4.text',\n",
       " 'Text_File5.text',\n",
       " 'Text_File6.text',\n",
       " 'Text_File7.text',\n",
       " 'Text_File8.text',\n",
       " 'Text_File9.text']"
      ]
     },
     "execution_count": 38,
     "metadata": {},
     "output_type": "execute_result"
    }
   ],
   "source": [
    "import os\n",
    "os.listdir() # directory checking for Image_File.PNG"
   ]
  },
  {
   "cell_type": "markdown",
   "id": "03b3d459",
   "metadata": {},
   "source": [
    "### Q20 : Write a function by which you will be able to append two PDF files ."
   ]
  },
  {
   "cell_type": "code",
   "execution_count": 5,
   "id": "8318f351",
   "metadata": {},
   "outputs": [
    {
     "name": "stdout",
     "output_type": "stream",
     "text": [
      "Enter source directory C:\\\\Users\\\\HP\\\\Desktop\\\\Python\\\\Class Task and challengs\n",
      "Enter extension with .pdf\n",
      "File created\n"
     ]
    }
   ],
   "source": [
    "import os\n",
    "def listo_pdf(*args):\n",
    "    list_Element=[]\n",
    "    for i in args:\n",
    "        for j in i:\n",
    "            list_Element.append(j)\n",
    "            \n",
    "            \n",
    "    return new_file(list_Element)\n",
    "\n",
    "def new_file(l):\n",
    "    f=open(f\"New_Merge_Pdf_File.pdf\",\"w\")\n",
    "    f.write(str(l))\n",
    "    f.close()  \n",
    "    print(\"File created\")\n",
    "    \n",
    "def file_Extension_Checker():\n",
    "    import os\n",
    "    source_directory=input(\"Enter source directory \")\n",
    "    ex=input(\"Enter extension with .\")\n",
    "    \n",
    "    list_of_files=[]\n",
    "    \n",
    "    for item in os.listdir(source_directory):\n",
    "        if item.endswith(ex):\n",
    "            list_of_files.append(item)\n",
    "        \n",
    "    return list_of_files\n",
    "        \n",
    "\n",
    "list_file=file_Extension_Checker()\n",
    "listo_pdf(list_file)"
   ]
  },
  {
   "cell_type": "code",
   "execution_count": 7,
   "id": "6618761e",
   "metadata": {},
   "outputs": [
    {
     "name": "stdout",
     "output_type": "stream",
     "text": [
      "Enter source directory C:\\\\Users\\\\HP\\\\Desktop\\\\Python\\\\Class Task and challengs\n",
      "Enter extension with .pdf\n"
     ]
    },
    {
     "data": {
      "text/plain": [
       "['New_Merge_Pdf_File.pdf',\n",
       " 'Pdf_File3.pdf',\n",
       " 'Pdf_File4.pdf',\n",
       " 'Pdf_File5.pdf',\n",
       " 'Pdf_File6.pdf',\n",
       " 'Pdf_File7.pdf',\n",
       " 'Pdf_File8.pdf',\n",
       " 'Pdf_File9.pdf']"
      ]
     },
     "execution_count": 7,
     "metadata": {},
     "output_type": "execute_result"
    }
   ],
   "source": [
    "file_Extension_Checker()"
   ]
  },
  {
   "cell_type": "markdown",
   "id": "398d50a0",
   "metadata": {},
   "source": [
    "### Q21 : Write a function which can help you to filter only word file from a directory ."
   ]
  },
  {
   "cell_type": "code",
   "execution_count": 8,
   "id": "11d8dd2c",
   "metadata": {},
   "outputs": [],
   "source": [
    "\n",
    "def createFile(n):\n",
    "    import os\n",
    "    for i in range(1,n+1):\n",
    "        f=open(f\"Text_File{i}.text\",\"w\")\n",
    "        f.write(\"Hello This is Pooja .\\n cReating sample .text files\")\n",
    "        f.close()\n",
    "    for i in range(3,n):\n",
    "        f=open(f\"Pdf_File{i}.pdf\",\"w\")\n",
    "        f.write(\"\"\"we are going to use gtts python package to TEXT TO SPEECH IN PYTHON. gTTS stands for Google Text-to-Speech. gTTs is a Python library and Command line tool to interface with Google Translate's text-to-speech API. it Writes text to spoken mp3 data to a file or stdout. So we are going to learn How to Use the Speech Recognition Module GTTS usinng Python 3.\n",
    "        text to speech conversion using python is goinng to be few lines of code.\"\"\")\n",
    "        f.close()    \n",
    "    print(\"File created\")    \n",
    "    \n",
    "def file_Extension_Checker():\n",
    "    import os\n",
    "    source_directory=input(\"Enter source directory \")\n",
    "    ex=input(\"Enter extension with .\")\n",
    "    \n",
    "    list_of_files=[]\n",
    "    \n",
    "    for item in os.listdir(source_directory):\n",
    "        if item.endswith(ex):\n",
    "            list_of_files.append(item)\n",
    "        \n",
    "    return list_of_files\n",
    "    "
   ]
  },
  {
   "cell_type": "code",
   "execution_count": 10,
   "id": "2743f365",
   "metadata": {},
   "outputs": [
    {
     "name": "stdout",
     "output_type": "stream",
     "text": [
      "File created\n"
     ]
    }
   ],
   "source": [
    "#calling fun for create files\n",
    "createFile(10)   "
   ]
  },
  {
   "cell_type": "code",
   "execution_count": 11,
   "id": "a62849d7",
   "metadata": {},
   "outputs": [
    {
     "data": {
      "text/plain": [
       "['.ipynb_checkpoints',\n",
       " 'Image_Audio_Text_File',\n",
       " 'Image_File.PNG',\n",
       " 'INeuron Challenge1.ipynb',\n",
       " 'INeuron Task1.ipynb',\n",
       " 'INeuron Task2.ipynb',\n",
       " 'INeuron Task3.ipynb',\n",
       " 'New_Merge_Pdf_File.pdf',\n",
       " 'Pdf_File3.pdf',\n",
       " 'Pdf_File4.pdf',\n",
       " 'Pdf_File5.pdf',\n",
       " 'Pdf_File6.pdf',\n",
       " 'Pdf_File7.pdf',\n",
       " 'Pdf_File8.pdf',\n",
       " 'Pdf_File9.pdf',\n",
       " 'Song_sample.mp4',\n",
       " 'Speech.mp3',\n",
       " 'Text_File1.text',\n",
       " 'Text_File10.text',\n",
       " 'Text_File2.text',\n",
       " 'Text_File3.text',\n",
       " 'Text_File4.text',\n",
       " 'Text_File5.text',\n",
       " 'Text_File6.text',\n",
       " 'Text_File7.text',\n",
       " 'Text_File8.text',\n",
       " 'Text_File9.text']"
      ]
     },
     "execution_count": 11,
     "metadata": {},
     "output_type": "execute_result"
    }
   ],
   "source": [
    "#checking\n",
    "os.listdir()"
   ]
  },
  {
   "cell_type": "code",
   "execution_count": 12,
   "id": "de917ba0",
   "metadata": {},
   "outputs": [
    {
     "name": "stdout",
     "output_type": "stream",
     "text": [
      "Enter source directory C:\\\\Users\\\\HP\\\\Desktop\\\\Python\\\\Class Task and challengs\n",
      "Enter extension with .text\n"
     ]
    },
    {
     "data": {
      "text/plain": [
       "['Text_File1.text',\n",
       " 'Text_File10.text',\n",
       " 'Text_File2.text',\n",
       " 'Text_File3.text',\n",
       " 'Text_File4.text',\n",
       " 'Text_File5.text',\n",
       " 'Text_File6.text',\n",
       " 'Text_File7.text',\n",
       " 'Text_File8.text',\n",
       " 'Text_File9.text']"
      ]
     },
     "execution_count": 12,
     "metadata": {},
     "output_type": "execute_result"
    }
   ],
   "source": [
    "#checking text files\n",
    "file_Extension_Checker()"
   ]
  },
  {
   "cell_type": "markdown",
   "id": "a08359cb",
   "metadata": {},
   "source": [
    "### Q22 : Write a function which can read video file and play for you ."
   ]
  },
  {
   "cell_type": "code",
   "execution_count": 41,
   "id": "79f08cee",
   "metadata": {},
   "outputs": [],
   "source": [
    "#pip install python-vlc"
   ]
  },
  {
   "cell_type": "code",
   "execution_count": 2,
   "id": "ae940d32",
   "metadata": {},
   "outputs": [
    {
     "name": "stdout",
     "output_type": "stream",
     "text": [
      "Please mention video name or path :\n",
      "Song_sample.mp4\n",
      "\n",
      "Your Video File 'Song_sample.mp4' played Commpletly....\n"
     ]
    }
   ],
   "source": [
    "def VideoPlay():\n",
    "    import vlc\n",
    "    import time\n",
    "    import moviepy.editor\n",
    "    \n",
    "    file=input(\"Please mention video name or path :\\n\")\n",
    "    video = moviepy.editor.VideoFileClip(file) #use for finding duration of clip so that later use it for automatically stop\n",
    "    duration=int(video.duration) \n",
    "\n",
    "    media = vlc.MediaPlayer(file) #put in mediaplayer\n",
    "\n",
    "    while True:   \n",
    "        media.play()  #play  till duration second +3 second extra than stop\n",
    "        time.sleep(duration+3) \n",
    "        media.stop()\n",
    "        break\n",
    "    print(f\"\\nYour Video File '{file}' played Commpletly....\")  \n",
    "    \n",
    "    \n",
    "    \n",
    "#Song_sample.mp4 download from my github \n",
    "#calling function\n",
    "VideoPlay()"
   ]
  },
  {
   "cell_type": "markdown",
   "id": "146cc916",
   "metadata": {},
   "source": [
    "### Q23 : Write a function which will be able to shutdonw your system .\n",
    "\n",
    "For shutdown your system : os.system(“shutdown /s /t 1”) /s=shutting down , /t=timmer ,1= 1 second ,/a=Abort shutdown\n",
    "\n",
    "For restart your system : os.system(“shutdown /r /t 1”) /r=restart , /t=timmer ,1= 1 second\n",
    "\n",
    "For Logout your system : os.system(“shutdown /l”) /l=log out"
   ]
  },
  {
   "cell_type": "code",
   "execution_count": 39,
   "id": "985cb857",
   "metadata": {},
   "outputs": [
    {
     "name": "stdout",
     "output_type": "stream",
     "text": [
      "Are you sure You want to SHUTDOWN system ? (YES/yes or NO/no): no\n",
      "\n",
      "System not Shutdown\n"
     ]
    }
   ],
   "source": [
    "import os\n",
    "  \n",
    "Shutdown = input(\"Are you sure You want to SHUTDOWN system ? (YES/yes or NO/no): \")\n",
    "  \n",
    "if Shutdown =='yes' or Shutdown =='YES':\n",
    "    os.system(\"shutdown /s /t 1\") \n",
    "else:\n",
    "    print(\"\\nSystem not Shutdown\")\n",
    "    "
   ]
  },
  {
   "cell_type": "markdown",
   "id": "b6f5b28a",
   "metadata": {},
   "source": [
    "### Q24 : Write a function which will would return list of all the file name from a directory .\n",
    "\n"
   ]
  },
  {
   "cell_type": "code",
   "execution_count": 40,
   "id": "f9bd250f",
   "metadata": {},
   "outputs": [
    {
     "data": {
      "text/plain": [
       "['.ipynb_checkpoints',\n",
       " 'Image_Audio_Text_File',\n",
       " 'Image_File.PNG',\n",
       " 'INeuron Challenge1.ipynb',\n",
       " 'INeuron Task1.ipynb',\n",
       " 'INeuron Task2.ipynb',\n",
       " 'INeuron Task3.ipynb',\n",
       " 'New_Merge_Pdf_File.pdf',\n",
       " 'Pdf_File3.pdf',\n",
       " 'Pdf_File4.pdf',\n",
       " 'Pdf_File5.pdf',\n",
       " 'Pdf_File6.pdf',\n",
       " 'Pdf_File7.pdf',\n",
       " 'Pdf_File8.pdf',\n",
       " 'Pdf_File9.pdf',\n",
       " 'Song_sample.mp4',\n",
       " 'Speech.mp3',\n",
       " 'Text_File1.text',\n",
       " 'Text_File10.text',\n",
       " 'Text_File2.text',\n",
       " 'Text_File3.text',\n",
       " 'Text_File4.text',\n",
       " 'Text_File5.text',\n",
       " 'Text_File6.text',\n",
       " 'Text_File7.text',\n",
       " 'Text_File8.text',\n",
       " 'Text_File9.text']"
      ]
     },
     "execution_count": 40,
     "metadata": {},
     "output_type": "execute_result"
    }
   ],
   "source": [
    "import os\n",
    "def file_In_Directory():\n",
    "    return os.listdir()\n",
    "\n",
    "file_In_Directory()"
   ]
  },
  {
   "cell_type": "markdown",
   "id": "51c4cbc0",
   "metadata": {},
   "source": [
    "### Q25 : Write a function which will be able to access your mail ."
   ]
  },
  {
   "cell_type": "code",
   "execution_count": 13,
   "id": "88ca0b33",
   "metadata": {},
   "outputs": [],
   "source": [
    "def SendMail(*args):\n",
    "    \n",
    "    \"\"\"Function for send Mail no. for friends,\n",
    "    Take 1 argument SendMail(list of mail_id of friend)\n",
    "    dafult mail id and password set. If u r providing your password try to give your app password.\n",
    "    How to Find App password Link:https://support.google.com/accounts/answer/185833?hl=en\n",
    "    \"\"\"\n",
    "    import smtplib\n",
    "\n",
    "    list_of_mail_id=[\"poojadas93@outlook.com\",\"Poojadas2014.pd@gmail.com\",\"shivan@ineuron.ai\",\"poojadasdatascience@gmail.com\"]\n",
    "\n",
    "    # Creates SMTP(Simple Mail Transport Protocol) session\n",
    "    s=smtplib.SMTP('smtp.gmail.com', 587)#465,587\n",
    "\n",
    "    # Start TLS(Transport Leyer Security ) for security\n",
    "\n",
    "\n",
    "    s.starttls()\n",
    "\n",
    "    # Authentication\n",
    "\n",
    "    s.login(\"poojadasdatascience@gmail.com\",\"iucuevwfzohtbooi\")\n",
    "\n",
    "    # Message to be sent\n",
    "\n",
    "    message=\"\"\"Hello, This is Testing Message for My Python Program.\n",
    "    If You you Getting this mail Means My Python Program work absolutely Fine.\n",
    "    and I hope You Are doing good.\n",
    "    Jai Hind\"\"\"\n",
    "\n",
    "    # Sending the mail\n",
    "\n",
    "    for send_mail in args:\n",
    "        s.sendmail(\"poojadasdatascience@gmail.com\",send_mail,message)\n",
    "\n",
    "    # Terminating the session\n",
    "    s.quit()\n",
    "    \n",
    "    print(\"Please Check your SPAM Folder\")"
   ]
  },
  {
   "cell_type": "code",
   "execution_count": 14,
   "id": "91a2c7e8",
   "metadata": {
    "scrolled": true
   },
   "outputs": [
    {
     "name": "stdout",
     "output_type": "stream",
     "text": [
      "Please Check your SPAM Folder\n"
     ]
    }
   ],
   "source": [
    "list_of_mail_id=[\"poojadas93@outlook.com\",\"Poojadas2014.pd@gmail.com\",\"shivan@ineuron.ai\",\"poojadasdatascience@gmail.com\"]\n",
    "\n",
    "SendMail(*list_of_mail_id)"
   ]
  }
 ],
 "metadata": {
  "kernelspec": {
   "display_name": "Python 3 (ipykernel)",
   "language": "python",
   "name": "python3"
  },
  "language_info": {
   "codemirror_mode": {
    "name": "ipython",
    "version": 3
   },
   "file_extension": ".py",
   "mimetype": "text/x-python",
   "name": "python",
   "nbconvert_exporter": "python",
   "pygments_lexer": "ipython3",
   "version": "3.9.7"
  }
 },
 "nbformat": 4,
 "nbformat_minor": 5
}
