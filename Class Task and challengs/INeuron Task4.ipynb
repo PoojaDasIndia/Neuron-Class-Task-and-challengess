{
 "cells": [
  {
   "cell_type": "markdown",
   "id": "a27fe3ef",
   "metadata": {},
   "source": [
    "# INeuron Class Task4"
   ]
  },
  {
   "cell_type": "raw",
   "id": "e239bcfa",
   "metadata": {},
   "source": [
    "Todays task :\n",
    "    q1 : Try to print a prime number in between 1 to 1000\n",
    "    q2 : Try to write a function which  is equivalent  to print function in python.\n",
    "    q3 : Try to write a function which is a replica of list append , extend and pop function \n",
    "    q4 : Try to write a lambda function which can return a concatination of all the string that we will pass\n",
    "    q5 : Try to write a lambda function which can return list of square of all the data between 1-100 \n",
    "    q6 : Try to write a 10 Different different example of lambda function with a choice of your taks \n",
    "    q7 : Try to write a funtion whihc can perform a read operation from .txt file \n",
    "        \n",
    "        shivan@ineuron.ai\n",
    "        sudhashu@ineuron.ai"
   ]
  },
  {
   "cell_type": "markdown",
   "id": "862d5e5d",
   "metadata": {},
   "source": [
    "# Question 1: Try to print a prime number in between 1 to 1000"
   ]
  },
  {
   "cell_type": "code",
   "execution_count": 1,
   "id": "6210ff25",
   "metadata": {},
   "outputs": [],
   "source": [
    "def prime_factor(lower,upper):\n",
    "# lower,upper=1,1000\n",
    "    l=[]\n",
    "    for num in range(lower, upper+1):\n",
    "        \n",
    "        if num>1:\n",
    "            for i in range(2,num):\n",
    "                if (num%i==0):\n",
    "                    break\n",
    "            else:\n",
    "#                 print(num,end=\" \") \n",
    "                l.append(num)\n",
    "    return l"
   ]
  },
  {
   "cell_type": "code",
   "execution_count": 2,
   "id": "58a85c45",
   "metadata": {},
   "outputs": [
    {
     "name": "stdout",
     "output_type": "stream",
     "text": [
      "[2, 3, 5, 7, 11, 13, 17, 19, 23, 29, 31, 37, 41, 43, 47, 53, 59, 61, 67, 71, 73, 79, 83, 89, 97, 101, 103, 107, 109, 113, 127, 131, 137, 139, 149, 151, 157, 163, 167, 173, 179, 181, 191, 193, 197, 199, 211, 223, 227, 229, 233, 239, 241, 251, 257, 263, 269, 271, 277, 281, 283, 293, 307, 311, 313, 317, 331, 337, 347, 349, 353, 359, 367, 373, 379, 383, 389, 397, 401, 409, 419, 421, 431, 433, 439, 443, 449, 457, 461, 463, 467, 479, 487, 491, 499, 503, 509, 521, 523, 541, 547, 557, 563, 569, 571, 577, 587, 593, 599, 601, 607, 613, 617, 619, 631, 641, 643, 647, 653, 659, 661, 673, 677, 683, 691, 701, 709, 719, 727, 733, 739, 743, 751, 757, 761, 769, 773, 787, 797, 809, 811, 821, 823, 827, 829, 839, 853, 857, 859, 863, 877, 881, 883, 887, 907, 911, 919, 929, 937, 941, 947, 953, 967, 971, 977, 983, 991, 997] "
     ]
    }
   ],
   "source": [
    "print(prime_factor(1,1000),end=\" \")"
   ]
  },
  {
   "cell_type": "markdown",
   "id": "2d9cbf41",
   "metadata": {},
   "source": [
    "# Question 2 : Try to write a function which  is equivalent  to print function in python."
   ]
  },
  {
   "cell_type": "code",
   "execution_count": 3,
   "id": "64235f0b",
   "metadata": {},
   "outputs": [],
   "source": [
    "def Print(*string):\n",
    "    import logging\n",
    "     \n",
    "    logger.setLevel(logging.DEBUG)\n",
    "    ch=logging.StreamHandler()\n",
    "    format=logging.Formatter(\"%(message)s\")\n",
    "    ch.setFormatter(format)\n",
    "    logger.addHandler(ch)\n",
    "    return logger.info(string)\n",
    "    \n",
    "    \n",
    "   "
   ]
  },
  {
   "cell_type": "code",
   "execution_count": null,
   "id": "797e8eb4",
   "metadata": {},
   "outputs": [],
   "source": []
  },
  {
   "cell_type": "code",
   "execution_count": 4,
   "id": "eddbec9f",
   "metadata": {},
   "outputs": [],
   "source": [
    "def Print(string):\n",
    "    import sys\n",
    "    sys.stdout.write(string)"
   ]
  },
  {
   "cell_type": "code",
   "execution_count": 5,
   "id": "f9aac371",
   "metadata": {},
   "outputs": [
    {
     "name": "stdout",
     "output_type": "stream",
     "text": [
      "Hello world"
     ]
    }
   ],
   "source": [
    "Print(\"Hello world\")"
   ]
  },
  {
   "cell_type": "markdown",
   "id": "1b938b94",
   "metadata": {},
   "source": [
    "# Question 7 Try to write a funtion which can perform a read operation from .txt file"
   ]
  },
  {
   "cell_type": "code",
   "execution_count": 40,
   "id": "0bc9b90a",
   "metadata": {},
   "outputs": [],
   "source": [
    "def File_read():\n",
    "    \n",
    "    file =  open(\"Text_File1.text\",\"r\")\n",
    "    file.seek(0)\n",
    "    return file.read()\n",
    "            \n",
    "       "
   ]
  },
  {
   "cell_type": "code",
   "execution_count": 42,
   "id": "0a05321e",
   "metadata": {},
   "outputs": [
    {
     "data": {
      "text/plain": [
       "'Hello This is Pooja .\\n cReating sample .text files'"
      ]
     },
     "execution_count": 42,
     "metadata": {},
     "output_type": "execute_result"
    }
   ],
   "source": [
    "File_read()"
   ]
  },
  {
   "cell_type": "markdown",
   "id": "8a121bff",
   "metadata": {},
   "source": [
    "# Question 3 Try to write a function which is a replica of list append , extend and pop function "
   ]
  },
  {
   "cell_type": "markdown",
   "id": "1f8254a9",
   "metadata": {},
   "source": [
    "### pop()"
   ]
  },
  {
   "cell_type": "code",
   "execution_count": 28,
   "id": "12a7ad66",
   "metadata": {},
   "outputs": [],
   "source": [
    "def pop(lst):\n",
    "    lst[:]= [i for i in lst if i != lst[-1]]"
   ]
  },
  {
   "cell_type": "code",
   "execution_count": 29,
   "id": "1f937c52",
   "metadata": {},
   "outputs": [
    {
     "name": "stdout",
     "output_type": "stream",
     "text": [
      "[4, 89, 652, 45, 56, 89]\n"
     ]
    }
   ],
   "source": [
    "l=[4, 89, 652, 45, 56, 89, 75]\n",
    "pop(l)\n",
    "print(l)"
   ]
  },
  {
   "cell_type": "markdown",
   "id": "adc6fdd4",
   "metadata": {},
   "source": [
    "### extend()"
   ]
  },
  {
   "cell_type": "code",
   "execution_count": 30,
   "id": "ba154694",
   "metadata": {},
   "outputs": [],
   "source": [
    "def extend(l,l1):\n",
    "    if type(l1) == list:\n",
    "        return l+l1\n",
    "    elif type(l1)==tuple or type(l1)==set or type(l1)==dict:\n",
    "        return l+list(l1)\n",
    "    else:\n",
    "        return \"Can't extend integer\"\n",
    "            "
   ]
  },
  {
   "cell_type": "code",
   "execution_count": 31,
   "id": "742fc5ce",
   "metadata": {},
   "outputs": [
    {
     "data": {
      "text/plain": [
       "[4, 89, 652, 45, 56, 89, 75, 4, 7, 100, 111]"
      ]
     },
     "execution_count": 31,
     "metadata": {},
     "output_type": "execute_result"
    }
   ],
   "source": [
    "l=[4, 89, 652, 45, 56, 89, 75, 4, 7]\n",
    "l1=(100,111)\n",
    "extend(l,l1)"
   ]
  },
  {
   "cell_type": "markdown",
   "id": "c9cb23cc",
   "metadata": {},
   "source": [
    "### append()"
   ]
  },
  {
   "cell_type": "code",
   "execution_count": 32,
   "id": "2e183bd6",
   "metadata": {},
   "outputs": [],
   "source": [
    "def append(l,l1):\n",
    "    l=l+[0]\n",
    "    l[-1]=l1\n",
    "    print(l)"
   ]
  },
  {
   "cell_type": "code",
   "execution_count": 33,
   "id": "db6e154d",
   "metadata": {},
   "outputs": [
    {
     "name": "stdout",
     "output_type": "stream",
     "text": [
      "[4, 89, 652, 45, 56, 89, 75, 4, 7, (100, 111)]\n"
     ]
    }
   ],
   "source": [
    "l=[4, 89, 652, 45, 56, 89, 75, 4, 7]\n",
    "l1=(100,111)\n",
    "append(l,l1)"
   ]
  },
  {
   "cell_type": "markdown",
   "id": "120b46d4",
   "metadata": {},
   "source": [
    "# q4 : Try to write a lambda function which can return a concatination of all the string that we will pass"
   ]
  },
  {
   "cell_type": "code",
   "execution_count": 34,
   "id": "69d760df",
   "metadata": {},
   "outputs": [
    {
     "name": "stdout",
     "output_type": "stream",
     "text": [
      "Pooja Das\n"
     ]
    }
   ],
   "source": [
    "con=lambda x,y : x+\" \"+y\n",
    "\n",
    "print(con(\"Pooja\",\"Das\"))"
   ]
  },
  {
   "cell_type": "markdown",
   "id": "fc3729ec",
   "metadata": {},
   "source": [
    "# q5 : Try to write a lambda function which can return list of square of all the data between 1-100 "
   ]
  },
  {
   "cell_type": "code",
   "execution_count": 35,
   "id": "cc231634",
   "metadata": {},
   "outputs": [
    {
     "name": "stdout",
     "output_type": "stream",
     "text": [
      "[1, 4, 9, 16, 25, 36, 49, 64, 81, 100, 121, 144, 169, 196, 225, 256, 289, 324, 361, 400, 441, 484, 529, 576, 625, 676, 729, 784, 841, 900, 961, 1024, 1089, 1156, 1225, 1296, 1369, 1444, 1521, 1600, 1681, 1764, 1849, 1936, 2025, 2116, 2209, 2304, 2401, 2500, 2601, 2704, 2809, 2916, 3025, 3136, 3249, 3364, 3481, 3600, 3721, 3844, 3969, 4096, 4225, 4356, 4489, 4624, 4761, 4900, 5041, 5184, 5329, 5476, 5625, 5776, 5929, 6084, 6241, 6400, 6561, 6724, 6889, 7056, 7225, 7396, 7569, 7744, 7921, 8100, 8281, 8464, 8649, 8836, 9025, 9216, 9409, 9604, 9801, 10000]\n"
     ]
    }
   ],
   "source": [
    "sqr=lambda x,y :[i*i  for i in range(x,y+1)]\n",
    "print(sqr(1,100))"
   ]
  },
  {
   "cell_type": "markdown",
   "id": "75c7c630",
   "metadata": {},
   "source": [
    "# q6 : Try to write a 10 Different different example of lambda function with a choice of your taks "
   ]
  },
  {
   "cell_type": "code",
   "execution_count": 36,
   "id": "bee923a3",
   "metadata": {},
   "outputs": [
    {
     "name": "stdout",
     "output_type": "stream",
     "text": [
      "Add : 50\n",
      "Square : [1, 4, 9, 16, 25, 36, 49, 64, 81, 100]\n",
      "Substract : 40\n",
      "concatenation : PoojaDas\n",
      "Power : 3125\n",
      "Divide : 1.0\n",
      "Multiple : 225\n",
      "Multiple : 225\n"
     ]
    }
   ],
   "source": [
    "# 1.add\n",
    "add=lambda x,y :x+y\n",
    "print(\"Add :\",add(5,45))\n",
    "\n",
    "# 2.square\n",
    "sqr=lambda x,y :[i*i  for i in range(x,y+1)]\n",
    "print(\"Square :\",sqr(1,10))\n",
    "\n",
    "#3.Substract\n",
    "sub=lambda x,y :x-y\n",
    "print(\"Substract :\",sub(45,5))\n",
    "\n",
    "#4.concatenation\n",
    "con=lambda x,y :x+y\n",
    "print(\"concatenation :\",con(\"Pooja\",\"Das\"))\n",
    "\n",
    "#5.power\n",
    "power=lambda x :x**x\n",
    "print(\"Power :\",power(5))\n",
    "\n",
    "#6.Divide\n",
    "div=lambda x,y :x/x\n",
    "print(\"Divide :\",div(15,5))\n",
    "\n",
    "#7.Multiple\n",
    "mul=lambda x,y :x*x\n",
    "print(\"Multiple :\",mul(15,5))\n",
    "\n",
    "\n",
    "#8.Multiple\n",
    "mul=lambda x,y :x*x\n",
    "print(\"Multiple :\",mul(15,5))\n",
    "\n"
   ]
  }
 ],
 "metadata": {
  "kernelspec": {
   "display_name": "Python 3 (ipykernel)",
   "language": "python",
   "name": "python3"
  },
  "language_info": {
   "codemirror_mode": {
    "name": "ipython",
    "version": 3
   },
   "file_extension": ".py",
   "mimetype": "text/x-python",
   "name": "python",
   "nbconvert_exporter": "python",
   "pygments_lexer": "ipython3",
   "version": "3.9.7"
  }
 },
 "nbformat": 4,
 "nbformat_minor": 5
}
